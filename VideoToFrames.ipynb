{
 "cells": [
  {
   "cell_type": "code",
   "execution_count": 1,
   "id": "martial-agreement",
   "metadata": {},
   "outputs": [],
   "source": [
    "import os\n",
    "import natsort\n",
    "import cv2"
   ]
  },
  {
   "cell_type": "markdown",
   "id": "tender-alpha",
   "metadata": {},
   "source": [
    "# fetching all videos"
   ]
  },
  {
   "cell_type": "code",
   "execution_count": 2,
   "id": "superior-newport",
   "metadata": {},
   "outputs": [
    {
     "name": "stdout",
     "output_type": "stream",
     "text": [
      "/media/shazil/New Volume/Shazil/Work/FAST/FYP/matches/all/red card/new data\n"
     ]
    },
    {
     "data": {
      "text/plain": [
       "['1.mp4', '2.mp4', '3.mp4']"
      ]
     },
     "execution_count": 2,
     "metadata": {},
     "output_type": "execute_result"
    }
   ],
   "source": [
    "videos = []\n",
    "\n",
    "path = os.path.abspath(os.getcwd()) \n",
    "print(path)\n",
    "\n",
    "videos = natsort.natsorted(os.listdir())[:-2]\n",
    "\n",
    "videos        \n"
   ]
  },
  {
   "cell_type": "markdown",
   "id": "challenging-straight",
   "metadata": {},
   "source": [
    "# converting to frames"
   ]
  },
  {
   "cell_type": "code",
   "execution_count": 3,
   "id": "comfortable-narrow",
   "metadata": {},
   "outputs": [
    {
     "data": {
      "text/plain": [
       "3"
      ]
     },
     "execution_count": 3,
     "metadata": {},
     "output_type": "execute_result"
    }
   ],
   "source": [
    "len(videos)"
   ]
  },
  {
   "cell_type": "code",
   "execution_count": 4,
   "id": "injured-transcript",
   "metadata": {},
   "outputs": [
    {
     "name": "stdout",
     "output_type": "stream",
     "text": [
      "Done  1\n",
      "Done  2\n",
      "Done  3\n"
     ]
    }
   ],
   "source": [
    "# function for converting to frames\n",
    "def getFrame(sec,saveDirectory):\n",
    "    vidcap.set(cv2.CAP_PROP_POS_MSEC,sec*1000)\n",
    "    hasFrames,image = vidcap.read()\n",
    "    if hasFrames:\n",
    "        cv2.imwrite((os.path.join(saveDirectory, str(count)+\".jpg\")), image)     # save frame as JPG file\n",
    "    return hasFrames\n",
    "\n",
    "# directory name\n",
    "directory_name = \"red card data\" \n",
    "\n",
    "# number_of_directories to make\n",
    "directory = [0,len(videos)]\n",
    "\n",
    "path = os.path.abspath(os.getcwd()) \n",
    "\n",
    "# making directory\n",
    "os.mkdir(path+'/'+directory_name)              \n",
    "\n",
    "count=1\n",
    "\n",
    "for i in range(0, len(videos)):\n",
    "                        \n",
    "# converting corresponding video to frames\n",
    "    vidcap = cv2.VideoCapture(videos[i])\n",
    "        \n",
    "    sec = 0\n",
    "    frameRate = 0.05 #//it will capture each image after specified second\n",
    "    \n",
    "    success = getFrame(sec,path+'/'+directory_name)\n",
    "    while success:\n",
    "        count = count + 1\n",
    "        sec = sec + frameRate\n",
    "        sec = round(sec, 2)\n",
    "        success = getFrame(sec,path+'/'+directory_name)\n",
    "    \n",
    "    print(\"Done \", i+1)\n",
    "            "
   ]
  },
  {
   "cell_type": "code",
   "execution_count": null,
   "id": "median-japan",
   "metadata": {},
   "outputs": [],
   "source": []
  }
 ],
 "metadata": {
  "kernelspec": {
   "display_name": "Python 3",
   "language": "python",
   "name": "python3"
  },
  "language_info": {
   "codemirror_mode": {
    "name": "ipython",
    "version": 3
   },
   "file_extension": ".py",
   "mimetype": "text/x-python",
   "name": "python",
   "nbconvert_exporter": "python",
   "pygments_lexer": "ipython3",
   "version": "3.8.10"
  }
 },
 "nbformat": 4,
 "nbformat_minor": 5
}
