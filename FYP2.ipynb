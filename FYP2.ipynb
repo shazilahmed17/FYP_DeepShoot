{
  "cells": [
    {
      "cell_type": "markdown",
      "metadata": {
        "id": "wpXnzKaElX6r"
      },
      "source": [
        "Connecting Drive"
      ]
    },
    {
      "cell_type": "code",
      "execution_count": 1,
      "metadata": {
        "id": "CR81yYkzNTl8",
        "colab": {
          "base_uri": "https://localhost:8080/"
        },
        "outputId": "99832bea-7b65-42fc-9859-9a76ae9551d7"
      },
      "outputs": [
        {
          "output_type": "stream",
          "name": "stdout",
          "text": [
            "Mounted at /content/drive\n"
          ]
        }
      ],
      "source": [
        "from google.colab import drive\n",
        "drive.mount('/content/drive')"
      ]
    },
    {
      "cell_type": "markdown",
      "metadata": {
        "id": "oMCKBEqglb4F"
      },
      "source": [
        "Installing Required Libraries"
      ]
    },
    {
      "cell_type": "code",
      "execution_count": 2,
      "metadata": {
        "id": "oF9misRgp_t-",
        "colab": {
          "base_uri": "https://localhost:8080/"
        },
        "outputId": "a65bdd29-ccf3-4e9e-ff3d-5ac751e641f9"
      },
      "outputs": [
        {
          "output_type": "stream",
          "name": "stdout",
          "text": [
            "Looking in indexes: https://pypi.org/simple, https://us-python.pkg.dev/colab-wheels/public/simple/\n",
            "Requirement already satisfied: moviepy in /usr/local/lib/python3.9/dist-packages (1.0.3)\n",
            "Requirement already satisfied: requests<3.0,>=2.8.1 in /usr/local/lib/python3.9/dist-packages (from moviepy) (2.27.1)\n",
            "Requirement already satisfied: decorator<5.0,>=4.0.2 in /usr/local/lib/python3.9/dist-packages (from moviepy) (4.4.2)\n",
            "Requirement already satisfied: numpy in /usr/local/lib/python3.9/dist-packages (from moviepy) (1.22.4)\n",
            "Requirement already satisfied: imageio<3.0,>=2.5 in /usr/local/lib/python3.9/dist-packages (from moviepy) (2.25.1)\n",
            "Requirement already satisfied: proglog<=1.0.0 in /usr/local/lib/python3.9/dist-packages (from moviepy) (0.1.10)\n",
            "Requirement already satisfied: imageio-ffmpeg>=0.2.0 in /usr/local/lib/python3.9/dist-packages (from moviepy) (0.4.8)\n",
            "Requirement already satisfied: tqdm<5.0,>=4.11.2 in /usr/local/lib/python3.9/dist-packages (from moviepy) (4.65.0)\n",
            "Requirement already satisfied: pillow>=8.3.2 in /usr/local/lib/python3.9/dist-packages (from imageio<3.0,>=2.5->moviepy) (8.4.0)\n",
            "Requirement already satisfied: idna<4,>=2.5 in /usr/local/lib/python3.9/dist-packages (from requests<3.0,>=2.8.1->moviepy) (3.4)\n",
            "Requirement already satisfied: urllib3<1.27,>=1.21.1 in /usr/local/lib/python3.9/dist-packages (from requests<3.0,>=2.8.1->moviepy) (1.26.15)\n",
            "Requirement already satisfied: certifi>=2017.4.17 in /usr/local/lib/python3.9/dist-packages (from requests<3.0,>=2.8.1->moviepy) (2022.12.7)\n",
            "Requirement already satisfied: charset-normalizer~=2.0.0 in /usr/local/lib/python3.9/dist-packages (from requests<3.0,>=2.8.1->moviepy) (2.0.12)\n",
            "Looking in indexes: https://pypi.org/simple, https://us-python.pkg.dev/colab-wheels/public/simple/\n",
            "Collecting imageio==2.4.1\n",
            "  Downloading imageio-2.4.1.tar.gz (3.3 MB)\n",
            "\u001b[2K     \u001b[90m━━━━━━━━━━━━━━━━━━━━━━━━━━━━━━━━━━━━━━━━\u001b[0m \u001b[32m3.3/3.3 MB\u001b[0m \u001b[31m69.4 MB/s\u001b[0m eta \u001b[36m0:00:00\u001b[0m\n",
            "\u001b[?25h  Preparing metadata (setup.py) ... \u001b[?25l\u001b[?25hdone\n",
            "Requirement already satisfied: numpy in /usr/local/lib/python3.9/dist-packages (from imageio==2.4.1) (1.22.4)\n",
            "Requirement already satisfied: pillow in /usr/local/lib/python3.9/dist-packages (from imageio==2.4.1) (8.4.0)\n",
            "Building wheels for collected packages: imageio\n",
            "  Building wheel for imageio (setup.py) ... \u001b[?25l\u001b[?25hdone\n",
            "  Created wheel for imageio: filename=imageio-2.4.1-py3-none-any.whl size=3303886 sha256=7d7a55759a050cae02fb6aca45936899563f53fe0f638b474f9d385caabdc561\n",
            "  Stored in directory: /root/.cache/pip/wheels/b7/44/b7/2e7cc9c5fe4a893b9cc83a010d4410557bedf6cf3b5829f497\n",
            "Successfully built imageio\n",
            "Installing collected packages: imageio\n",
            "  Attempting uninstall: imageio\n",
            "    Found existing installation: imageio 2.25.1\n",
            "    Uninstalling imageio-2.25.1:\n",
            "      Successfully uninstalled imageio-2.25.1\n",
            "\u001b[31mERROR: pip's dependency resolver does not currently take into account all the packages that are installed. This behaviour is the source of the following dependency conflicts.\n",
            "moviepy 1.0.3 requires imageio<3.0,>=2.5; python_version >= \"3.4\", but you have imageio 2.4.1 which is incompatible.\u001b[0m\u001b[31m\n",
            "\u001b[0mSuccessfully installed imageio-2.4.1\n",
            "Looking in indexes: https://pypi.org/simple, https://us-python.pkg.dev/colab-wheels/public/simple/\n",
            "Requirement already satisfied: imageio-ffmpeg in /usr/local/lib/python3.9/dist-packages (0.4.8)\n",
            "Looking in indexes: https://pypi.org/simple, https://us-python.pkg.dev/colab-wheels/public/simple/\n",
            "Requirement already satisfied: tensorflow in /usr/local/lib/python3.9/dist-packages (2.12.0)\n",
            "Requirement already satisfied: wrapt<1.15,>=1.11.0 in /usr/local/lib/python3.9/dist-packages (from tensorflow) (1.14.1)\n",
            "Requirement already satisfied: tensorflow-estimator<2.13,>=2.12.0 in /usr/local/lib/python3.9/dist-packages (from tensorflow) (2.12.0)\n",
            "Requirement already satisfied: grpcio<2.0,>=1.24.3 in /usr/local/lib/python3.9/dist-packages (from tensorflow) (1.53.0)\n",
            "Requirement already satisfied: numpy<1.24,>=1.22 in /usr/local/lib/python3.9/dist-packages (from tensorflow) (1.22.4)\n",
            "Requirement already satisfied: h5py>=2.9.0 in /usr/local/lib/python3.9/dist-packages (from tensorflow) (3.8.0)\n",
            "Requirement already satisfied: tensorboard<2.13,>=2.12 in /usr/local/lib/python3.9/dist-packages (from tensorflow) (2.12.1)\n",
            "Requirement already satisfied: termcolor>=1.1.0 in /usr/local/lib/python3.9/dist-packages (from tensorflow) (2.2.0)\n",
            "Requirement already satisfied: six>=1.12.0 in /usr/local/lib/python3.9/dist-packages (from tensorflow) (1.16.0)\n",
            "Requirement already satisfied: jax>=0.3.15 in /usr/local/lib/python3.9/dist-packages (from tensorflow) (0.4.7)\n",
            "Requirement already satisfied: libclang>=13.0.0 in /usr/local/lib/python3.9/dist-packages (from tensorflow) (16.0.0)\n",
            "Requirement already satisfied: protobuf!=4.21.0,!=4.21.1,!=4.21.2,!=4.21.3,!=4.21.4,!=4.21.5,<5.0.0dev,>=3.20.3 in /usr/local/lib/python3.9/dist-packages (from tensorflow) (3.20.3)\n",
            "Requirement already satisfied: keras<2.13,>=2.12.0 in /usr/local/lib/python3.9/dist-packages (from tensorflow) (2.12.0)\n",
            "Requirement already satisfied: typing-extensions>=3.6.6 in /usr/local/lib/python3.9/dist-packages (from tensorflow) (4.5.0)\n",
            "Requirement already satisfied: setuptools in /usr/local/lib/python3.9/dist-packages (from tensorflow) (67.6.1)\n",
            "Requirement already satisfied: gast<=0.4.0,>=0.2.1 in /usr/local/lib/python3.9/dist-packages (from tensorflow) (0.4.0)\n",
            "Requirement already satisfied: flatbuffers>=2.0 in /usr/local/lib/python3.9/dist-packages (from tensorflow) (23.3.3)\n",
            "Requirement already satisfied: packaging in /usr/local/lib/python3.9/dist-packages (from tensorflow) (23.0)\n",
            "Requirement already satisfied: opt-einsum>=2.3.2 in /usr/local/lib/python3.9/dist-packages (from tensorflow) (3.3.0)\n",
            "Requirement already satisfied: absl-py>=1.0.0 in /usr/local/lib/python3.9/dist-packages (from tensorflow) (1.4.0)\n",
            "Requirement already satisfied: astunparse>=1.6.0 in /usr/local/lib/python3.9/dist-packages (from tensorflow) (1.6.3)\n",
            "Requirement already satisfied: google-pasta>=0.1.1 in /usr/local/lib/python3.9/dist-packages (from tensorflow) (0.2.0)\n",
            "Requirement already satisfied: tensorflow-io-gcs-filesystem>=0.23.1 in /usr/local/lib/python3.9/dist-packages (from tensorflow) (0.32.0)\n",
            "Requirement already satisfied: wheel<1.0,>=0.23.0 in /usr/local/lib/python3.9/dist-packages (from astunparse>=1.6.0->tensorflow) (0.40.0)\n",
            "Requirement already satisfied: ml-dtypes>=0.0.3 in /usr/local/lib/python3.9/dist-packages (from jax>=0.3.15->tensorflow) (0.0.4)\n",
            "Requirement already satisfied: scipy>=1.7 in /usr/local/lib/python3.9/dist-packages (from jax>=0.3.15->tensorflow) (1.10.1)\n",
            "Requirement already satisfied: markdown>=2.6.8 in /usr/local/lib/python3.9/dist-packages (from tensorboard<2.13,>=2.12->tensorflow) (3.4.3)\n",
            "Requirement already satisfied: tensorboard-data-server<0.8.0,>=0.7.0 in /usr/local/lib/python3.9/dist-packages (from tensorboard<2.13,>=2.12->tensorflow) (0.7.0)\n",
            "Requirement already satisfied: requests<3,>=2.21.0 in /usr/local/lib/python3.9/dist-packages (from tensorboard<2.13,>=2.12->tensorflow) (2.27.1)\n",
            "Requirement already satisfied: google-auth<3,>=1.6.3 in /usr/local/lib/python3.9/dist-packages (from tensorboard<2.13,>=2.12->tensorflow) (2.17.2)\n",
            "Requirement already satisfied: tensorboard-plugin-wit>=1.6.0 in /usr/local/lib/python3.9/dist-packages (from tensorboard<2.13,>=2.12->tensorflow) (1.8.1)\n",
            "Requirement already satisfied: werkzeug>=1.0.1 in /usr/local/lib/python3.9/dist-packages (from tensorboard<2.13,>=2.12->tensorflow) (2.2.3)\n",
            "Requirement already satisfied: google-auth-oauthlib<1.1,>=0.5 in /usr/local/lib/python3.9/dist-packages (from tensorboard<2.13,>=2.12->tensorflow) (1.0.0)\n",
            "Requirement already satisfied: cachetools<6.0,>=2.0.0 in /usr/local/lib/python3.9/dist-packages (from google-auth<3,>=1.6.3->tensorboard<2.13,>=2.12->tensorflow) (5.3.0)\n",
            "Requirement already satisfied: rsa<5,>=3.1.4 in /usr/local/lib/python3.9/dist-packages (from google-auth<3,>=1.6.3->tensorboard<2.13,>=2.12->tensorflow) (4.9)\n",
            "Requirement already satisfied: pyasn1-modules>=0.2.1 in /usr/local/lib/python3.9/dist-packages (from google-auth<3,>=1.6.3->tensorboard<2.13,>=2.12->tensorflow) (0.2.8)\n",
            "Requirement already satisfied: requests-oauthlib>=0.7.0 in /usr/local/lib/python3.9/dist-packages (from google-auth-oauthlib<1.1,>=0.5->tensorboard<2.13,>=2.12->tensorflow) (1.3.1)\n",
            "Requirement already satisfied: importlib-metadata>=4.4 in /usr/local/lib/python3.9/dist-packages (from markdown>=2.6.8->tensorboard<2.13,>=2.12->tensorflow) (6.2.0)\n",
            "Requirement already satisfied: idna<4,>=2.5 in /usr/local/lib/python3.9/dist-packages (from requests<3,>=2.21.0->tensorboard<2.13,>=2.12->tensorflow) (3.4)\n",
            "Requirement already satisfied: urllib3<1.27,>=1.21.1 in /usr/local/lib/python3.9/dist-packages (from requests<3,>=2.21.0->tensorboard<2.13,>=2.12->tensorflow) (1.26.15)\n",
            "Requirement already satisfied: certifi>=2017.4.17 in /usr/local/lib/python3.9/dist-packages (from requests<3,>=2.21.0->tensorboard<2.13,>=2.12->tensorflow) (2022.12.7)\n",
            "Requirement already satisfied: charset-normalizer~=2.0.0 in /usr/local/lib/python3.9/dist-packages (from requests<3,>=2.21.0->tensorboard<2.13,>=2.12->tensorflow) (2.0.12)\n",
            "Requirement already satisfied: MarkupSafe>=2.1.1 in /usr/local/lib/python3.9/dist-packages (from werkzeug>=1.0.1->tensorboard<2.13,>=2.12->tensorflow) (2.1.2)\n",
            "Requirement already satisfied: zipp>=0.5 in /usr/local/lib/python3.9/dist-packages (from importlib-metadata>=4.4->markdown>=2.6.8->tensorboard<2.13,>=2.12->tensorflow) (3.15.0)\n",
            "Requirement already satisfied: pyasn1<0.5.0,>=0.4.6 in /usr/local/lib/python3.9/dist-packages (from pyasn1-modules>=0.2.1->google-auth<3,>=1.6.3->tensorboard<2.13,>=2.12->tensorflow) (0.4.8)\n",
            "Requirement already satisfied: oauthlib>=3.0.0 in /usr/local/lib/python3.9/dist-packages (from requests-oauthlib>=0.7.0->google-auth-oauthlib<1.1,>=0.5->tensorboard<2.13,>=2.12->tensorflow) (3.2.2)\n"
          ]
        }
      ],
      "source": [
        "!pip install moviepy\n",
        "\n",
        "!pip3 install imageio==2.4.1\n",
        "\n",
        "!pip install --upgrade imageio-ffmpeg\n",
        "\n",
        "!pip install tensorflow --upgrade"
      ]
    },
    {
      "cell_type": "markdown",
      "metadata": {
        "id": "F78eyC8dljJw"
      },
      "source": [
        "Importing Libraries"
      ]
    },
    {
      "cell_type": "code",
      "execution_count": 3,
      "metadata": {
        "id": "LyNKQC8foIMT"
      },
      "outputs": [],
      "source": [
        "from tensorflow.keras.applications.inception_resnet_v2 import InceptionResNetV2,preprocess_input, decode_predictions\n",
        "from tensorflow.keras.preprocessing import image\n",
        "import numpy as np\n",
        "import pandas as pd\n",
        "import cv2\n",
        "import os\n",
        "from scipy import spatial\n",
        "from imutils.video import FileVideoStream\n",
        "import imutils\n",
        "import tensorflow as tf\n",
        "from moviepy.video.io.ffmpeg_tools import ffmpeg_extract_subclip\n",
        "from moviepy.editor import *\n",
        "import matplotlib.pyplot as plt\n",
        "import cv2\n",
        "import subprocess\n",
        "from moviepy.config import get_setting\n",
        "from moviepy.tools import subprocess_call\n",
        "import numba\n",
        "import threading\n",
        "import cupy as cp\n",
        "import logging;\n",
        "logger = logging.getLogger(\"numba\");\n",
        "logger.setLevel(logging.ERROR)"
      ]
    },
    {
      "cell_type": "code",
      "execution_count": 4,
      "metadata": {
        "id": "1phBLLkDoJST"
      },
      "outputs": [],
      "source": [
        "def return_image_embedding1(model,img_path):\n",
        "    img = image.load_img(img_path)\n",
        "    x = image.img_to_array(img)\n",
        "    x = np.expand_dims(x, axis=0)\n",
        "    x = preprocess_input(x)\n",
        "    preds = model.predict(x)\n",
        "    return np.array(preds).flatten()\n",
        "    #return preds"
      ]
    },
    {
      "cell_type": "code",
      "execution_count": 5,
      "metadata": {
        "id": "vniYFV_4oJUg"
      },
      "outputs": [],
      "source": [
        "def return_image_embedding2(model,img):\n",
        "    # img = np.resize(frame, (299,299,3))\n",
        "    x = image.img_to_array(img)\n",
        "    x = np.expand_dims(x, axis=0)\n",
        "    x = preprocess_input(x)\n",
        "    preds = model.predict(x)\n",
        "    return preds"
      ]
    },
    {
      "cell_type": "markdown",
      "metadata": {
        "id": "M4JR6ew4lnFD"
      },
      "source": [
        "Removing Frame Folders"
      ]
    },
    {
      "cell_type": "code",
      "execution_count": 22,
      "metadata": {
        "id": "fzYZZ97alO2g"
      },
      "outputs": [],
      "source": [
        "import locale\n",
        "locale.getpreferredencoding = lambda: \"UTF-8\"\n",
        "%rm -rf /content/drive/MyDrive/MID/FootballData/Camera_Angle1\n",
        "%rm -rf /content/drive/MyDrive/MID/FootballData/Camera_Angle2\n",
        "%rm -rf /content/drive/MyDrive/MID/FootballData/Videos"
      ]
    },
    {
      "cell_type": "markdown",
      "metadata": {
        "id": "HxcpW3kZlqb-"
      },
      "source": [
        "Creating Frame Folders"
      ]
    },
    {
      "cell_type": "code",
      "execution_count": 7,
      "metadata": {
        "id": "4UC2Ekg3k-1P"
      },
      "outputs": [],
      "source": [
        "import os.path\n",
        "from os import path\n",
        "path = \"/content/drive/MyDrive/MID/FootballData/Camera_Angle1\"\n",
        "os.mkdir(path)\n",
        "path = \"/content/drive/MyDrive/MID/FootballData/Camera_Angle2\"\n",
        "os.mkdir(path)\n",
        "path = \"/content/drive/MyDrive/MID/FootballData/Videos\"\n",
        "os.mkdir(path)"
      ]
    },
    {
      "cell_type": "code",
      "execution_count": 8,
      "metadata": {
        "id": "zmweyCYhoJWa",
        "colab": {
          "base_uri": "https://localhost:8080/"
        },
        "outputId": "027a8917-2434-4976-d95a-da84a316d05f"
      },
      "outputs": [
        {
          "output_type": "stream",
          "name": "stdout",
          "text": [
            "Downloading data from https://storage.googleapis.com/tensorflow/keras-applications/inception_resnet_v2/inception_resnet_v2_weights_tf_dim_ordering_tf_kernels_notop.h5\n",
            "219055592/219055592 [==============================] - 8s 0us/step\n"
          ]
        }
      ],
      "source": [
        "model = InceptionResNetV2(include_top=False,weights='imagenet',pooling='avg')"
      ]
    },
    {
      "cell_type": "code",
      "execution_count": 9,
      "metadata": {
        "id": "-ayDjoP2g7OP"
      },
      "outputs": [],
      "source": [
        "def cp_hist_to_cv(np_histogram_output):\n",
        "    counts, bin_edges = np_histogram_output\n",
        "    counts = cp.asnumpy(counts)\n",
        "    return counts.ravel().astype('float32')"
      ]
    },
    {
      "cell_type": "markdown",
      "metadata": {
        "id": "_kkFMKWefMKs"
      },
      "source": [
        "FPS Extraction"
      ]
    },
    {
      "cell_type": "code",
      "execution_count": 10,
      "metadata": {
        "id": "eI9SvPjzfLXL",
        "colab": {
          "base_uri": "https://localhost:8080/"
        },
        "outputId": "3e00734d-c4a4-48bd-9cf0-099c09841d49"
      },
      "outputs": [
        {
          "output_type": "stream",
          "name": "stdout",
          "text": [
            "25.0\n"
          ]
        }
      ],
      "source": [
        "videopath = \"/content/drive/MyDrive/MID/12.mp4\"\n",
        "video = cv2.VideoCapture(videopath);\n",
        "fps = video.get(cv2.CAP_PROP_FPS)\n",
        "print(fps)"
      ]
    },
    {
      "cell_type": "code",
      "execution_count": 11,
      "metadata": {
        "id": "bmn3ui2GejKQ",
        "colab": {
          "base_uri": "https://localhost:8080/"
        },
        "outputId": "ed0855f8-1daa-4d34-8833-56ec99c99a92"
      },
      "outputs": [
        {
          "output_type": "stream",
          "name": "stdout",
          "text": [
            "10000\n"
          ]
        }
      ],
      "source": [
        "from imutils.video import FileVideoStream\n",
        "import imutils\n",
        "import time\n",
        "import numpy as np\n",
        "import cupy as cp\n",
        "import cv2\n",
        "import math\n",
        "\n",
        "vs = FileVideoStream(videopath).start()\n",
        "\n",
        "frame1 = vs.read()\n",
        "\n",
        "j = 0\n",
        "\n",
        "diction1 = {}\n",
        "diction2 = {}\n",
        "\n",
        "a = 0\n",
        "ls1 = []\n",
        "ls2 = []\n",
        "\n",
        "while True:\n",
        "\n",
        "\n",
        "  if not vs.more():\n",
        "      vs.stop()\n",
        "      break\n",
        "\n",
        "  a += 1\n",
        "\n",
        "  frame2 = vs.read()\n",
        "  \n",
        "  if frame2 is not None:\n",
        "\n",
        "    hist_img1 = cp.histogram(cp.array(frame1))\n",
        "    # np.normalize(hist_img1, hist_img1, alpha=0, beta=1, norm_type=cv2.NORM_MINMAX)\n",
        "    hist_img2 = cp.histogram(cp.array(frame2))\n",
        "    # cv2.normalize(hist_img2, hist_img2, alpha=0, beta=1, norm_type=cv2.NORM_MINMAX)\n",
        "\n",
        "    # metric_val = bhattacharyya(cp_hist_to_cv(hist_img1),cp_hist_to_cv(hist_img2))\n",
        "    metric_val = cv2.compareHist(cp_hist_to_cv(hist_img1), cp_hist_to_cv(hist_img2),\n",
        "                        cv2.HISTCMP_HELLINGER)\n",
        "\n",
        "    # print(metric_val)\n",
        "    if metric_val >= 0.13:\n",
        "      # k = 1\n",
        "      # cv2.imwrite(\"/content/drive/MyDrive/MID/FootballData/Camera Angel/\" + str(j+1) +  str(k) +\".jpeg\",frame1)\n",
        "      # k = 2\n",
        "      # cv2.imwrite(\"/content/drive/MyDrive/MID/FootballData/Camera Angel/\" + str(j+1) + str(k) + \".jpeg\",frame2)\n",
        "      ls1.append(frame1)\n",
        "      ls1.append(a/fps)\n",
        "      ls2.append(frame2)\n",
        "      ls2.append(a/fps)\n",
        "      diction1[\"/content/drive/MyDrive/MID/FootballData/Camera_Angle1/\" + str(j+1) + \".jpeg\"] = ls1\n",
        "      diction2[\"/content/drive/MyDrive/MID/FootballData/Camera_Angle2/\" + str(j+1) + \".jpeg\"] = ls2\n",
        "\n",
        " \n",
        "      ls1 = []\n",
        "      ls2 = []\n",
        "\n",
        "\n",
        "      j += 1\n",
        "\n",
        "\n",
        "    if a % 10000 == 0:\n",
        "      print(a)\n",
        "\n",
        "    frame1 = frame2\n"
      ]
    },
    {
      "cell_type": "code",
      "execution_count": 12,
      "metadata": {
        "id": "R3Ce2ajw471D",
        "colab": {
          "base_uri": "https://localhost:8080/"
        },
        "outputId": "6602309f-3541-42ee-ae79-3657a69624a9"
      },
      "outputs": [
        {
          "output_type": "stream",
          "name": "stdout",
          "text": [
            "106\n",
            "106\n"
          ]
        }
      ],
      "source": [
        "print(len(diction1))\n",
        "print(len(diction2))"
      ]
    },
    {
      "cell_type": "markdown",
      "metadata": {
        "id": "iRJ2Nm14Ns3Y"
      },
      "source": [
        "Testing"
      ]
    },
    {
      "cell_type": "code",
      "execution_count": 13,
      "metadata": {
        "id": "D0emvIg2Nrqa"
      },
      "outputs": [],
      "source": [
        "# for i in diction1.keys():\n",
        "#   cv2.imwrite(\"1.jpeg\",diction1[i][0])"
      ]
    },
    {
      "cell_type": "code",
      "execution_count": 14,
      "metadata": {
        "id": "ZScAtUn9473q"
      },
      "outputs": [],
      "source": [
        "from time import sleep\n",
        "import matplotlib.pyplot as plt\n",
        "\n",
        "for i in diction1.keys():\n",
        "  cv2.imwrite(i,diction1[i][0])\n",
        "  cv2.imwrite(i.replace(\"Angle1\",\"Angle2\"),diction2[i.replace(\"Angle1\",\"Angle2\")][0])"
      ]
    },
    {
      "cell_type": "markdown",
      "source": [
        "Finding Relevant Frames"
      ],
      "metadata": {
        "id": "vdPG640B5SGS"
      }
    },
    {
      "cell_type": "code",
      "source": [
        "import os\n",
        "path1 = \"/content/drive/MyDrive/MID/FootballData/Camera_Angle1/\"\n",
        "path2 = \"/content/drive/MyDrive/MID/FootballData/Camera_Angle2/\"\n",
        "count=0\n",
        "files = sorted(os.listdir(\"/content/drive/MyDrive/MID/FootballData/Camera_Angle1\"))\n",
        "\n",
        "frametest2 = return_image_embedding1(model,\"/content/drive/MyDrive/Testing/2.jpeg\")\n",
        "frametest3 = return_image_embedding1(model,\"/content/drive/MyDrive/Testing/3.jpeg\")\n",
        "frametest4 = return_image_embedding1(model,\"/content/drive/MyDrive/Testing/4.jpeg\")\n",
        "frametest7 = return_image_embedding1(model,\"/content/drive/MyDrive/Testing/7.png\")#Penalty Kick side facing camera\n",
        "frametest8= return_image_embedding1(model,\"/content/drive/MyDrive/Testing/8.png\")\n",
        "\n",
        "p1 = return_image_embedding1(model,\"/content/drive/MyDrive/Testing/P1.png\")\n",
        "p2 = return_image_embedding1(model,\"/content/drive/MyDrive/Testing/P2.png\")\n",
        "card1=return_image_embedding1(model,\"/content/drive/MyDrive/Testing/C1.png\")\n",
        "\n",
        "\n",
        "ls1 = []\n",
        "for i in files:\n",
        "  frame1 = return_image_embedding1(model,path1 + i)\n",
        "  frame2 = return_image_embedding1(model,path2 + i)\n",
        "\n",
        "  similarity12 = -1 * (spatial.distance.cosine(frametest2, frame1) - 1)\n",
        "  similarity13 = -1 * (spatial.distance.cosine(frametest3, frame1) - 1)\n",
        "  similarity14 = -1 * (spatial.distance.cosine(frametest4, frame1) - 1)\n",
        "  \n",
        "  similarity17 = -1 * (spatial.distance.cosine(frametest4, frame1) - 1)\n",
        "  similarity18 = -1 * (spatial.distance.cosine(frametest8, frame1) - 1)\n",
        "  c1 = -1 * (spatial.distance.cosine(card1, frame1) - 1)\n",
        "  p1_s= -1 * (spatial.distance.cosine(p1, frame1) - 1)\n",
        "\n",
        "  similarity27 = -1 * (spatial.distance.cosine(frametest7, frame2) - 1)\n",
        "  \n",
        "  p2_s= -1 * (spatial.distance.cosine(p2, frame2) - 1)\n",
        "  # print(\"Penalty P1: \",p1_s,   \"-----------\"  ,i)\n",
        "  # print(\"Penalty P2: \",p2_s,   \"-----------\"  ,i)\n",
        "  # print(\"Pic1\\t\",similarity12,   \"-----------\"  ,i)\n",
        "  # print(\"Pic2\\t\",similarity13,   \"-----------\"  ,i)\n",
        "  # print(\"Pic3\\t\",similarity14,   \"-----------\"  ,i)\n",
        "  # print(\"Pic4\\t\",similarity17,   \"-----------\"  ,i)\n",
        "  # print(\"Pic5\\t\",similarity18,   \"-----------\"  ,i)\n",
        "  \n",
        "  # print(\"Pic6:\\t\",similarity27,   \"-----------\"  ,i)\n",
        "  #print(\"Card:\\t\",c1,   \"-----------\"  ,i)\n",
        "\n",
        "\n",
        "  \"\"\"\n",
        "For Penalties\n",
        " if (p1_s >= 0.935 or p2_s >=0.936):\n",
        "\n",
        "Normal Condition\n",
        "if (similarity12 >= 0.935 or similarity13 >= 0.935  or similarity17 >= 0.950\n",
        "      or similarity27 >= 0.950 or p1_s >= 0.935 or p2_s >=0.936):\n",
        "\n",
        "No Penalties but everything else\n",
        "if ( similarity12 >= 0.935 or similarity13 >= 0.935\n",
        "  or similarity17 >= 0.950 or similarity27 >= 0.950):\n",
        "\n",
        "\n",
        "\n",
        "if (similarity12 >= 0.922 or similarity13 >= 0.935\n",
        "  or (similarity17 >= 0.95 or similarity18 >= 0.96)\n",
        "   or (p1_s >= 0.935 or p2_s >=0.935) or c1 >= 0.925):\n",
        "\n",
        "\"\"\"\n",
        "\n",
        "\n",
        "  if (similarity12 >= 0.922 or similarity13 >= 0.935\n",
        "  or (similarity17 >= 0.95 or similarity18 >= 0.96)\n",
        "   or (p1_s >= 0.935 or p2_s >=0.935) or c1 >= 0.925):\n",
        "    ls1.append(i)\n",
        "    count+=1\n",
        "    print(\"Penalty P1: \",p1_s,   \"-----------\"  ,i)\n",
        "    print(\"Penalty P2: \",p2_s,   \"-----------\"  ,i)\n",
        "    print(\"Pic1\\t\",similarity12,   \"-----------\"  ,i)\n",
        "    print(\"Pic2\\t\",similarity13,   \"-----------\"  ,i)\n",
        "    print(\"Pic3\\t\",similarity14,   \"-----------\"  ,i)\n",
        "    print(\"Pic4\\t\",similarity17,   \"-----------\"  ,i)\n",
        "    print(\"Pic5\\t\",similarity18,   \"-----------\"  ,i)\n",
        "    print(\"Card:\\t\",c1,   \"-----------\"  ,i)\n",
        "    print(\"Pic6:\\t\",similarity27,   \"-----------\"  ,i)\n",
        "    \n",
        "   \n",
        "    print()\n",
        "\n",
        "print(count)      "
      ],
      "metadata": {
        "colab": {
          "base_uri": "https://localhost:8080/"
        },
        "id": "VLCZHLVVkiJE",
        "outputId": "41fde043-fbf6-4ace-9a21-d734c9e60d37"
      },
      "execution_count": 15,
      "outputs": [
        {
          "output_type": "stream",
          "name": "stdout",
          "text": [
            "1/1 [==============================] - 13s 13s/step\n",
            "1/1 [==============================] - 0s 89ms/step\n",
            "1/1 [==============================] - 5s 5s/step\n",
            "1/1 [==============================] - 2s 2s/step\n",
            "1/1 [==============================] - 0s 52ms/step\n",
            "1/1 [==============================] - 0s 48ms/step\n",
            "1/1 [==============================] - 0s 65ms/step\n",
            "1/1 [==============================] - 3s 3s/step\n",
            "1/1 [==============================] - 3s 3s/step\n",
            "1/1 [==============================] - 0s 78ms/step\n",
            "1/1 [==============================] - 0s 82ms/step\n",
            "1/1 [==============================] - 0s 85ms/step\n",
            "1/1 [==============================] - 0s 80ms/step\n",
            "1/1 [==============================] - 0s 69ms/step\n",
            "1/1 [==============================] - 0s 83ms/step\n",
            "1/1 [==============================] - 0s 83ms/step\n",
            "1/1 [==============================] - 0s 80ms/step\n",
            "1/1 [==============================] - 0s 81ms/step\n",
            "1/1 [==============================] - 0s 69ms/step\n",
            "1/1 [==============================] - 0s 87ms/step\n",
            "1/1 [==============================] - 0s 86ms/step\n",
            "1/1 [==============================] - 0s 98ms/step\n",
            "1/1 [==============================] - 0s 91ms/step\n",
            "1/1 [==============================] - 0s 93ms/step\n",
            "1/1 [==============================] - 0s 95ms/step\n",
            "1/1 [==============================] - 0s 80ms/step\n",
            "1/1 [==============================] - 0s 87ms/step\n",
            "1/1 [==============================] - 0s 67ms/step\n",
            "1/1 [==============================] - 0s 75ms/step\n",
            "1/1 [==============================] - 0s 67ms/step\n",
            "1/1 [==============================] - 0s 71ms/step\n",
            "1/1 [==============================] - 0s 73ms/step\n",
            "1/1 [==============================] - 0s 69ms/step\n",
            "1/1 [==============================] - 0s 68ms/step\n",
            "1/1 [==============================] - 0s 71ms/step\n",
            "1/1 [==============================] - 0s 69ms/step\n",
            "1/1 [==============================] - 0s 68ms/step\n",
            "1/1 [==============================] - 0s 70ms/step\n",
            "1/1 [==============================] - 0s 68ms/step\n",
            "1/1 [==============================] - 0s 67ms/step\n",
            "1/1 [==============================] - 0s 68ms/step\n",
            "1/1 [==============================] - 0s 71ms/step\n",
            "1/1 [==============================] - 0s 78ms/step\n",
            "1/1 [==============================] - 0s 68ms/step\n",
            "1/1 [==============================] - 0s 68ms/step\n",
            "1/1 [==============================] - 0s 68ms/step\n",
            "1/1 [==============================] - 0s 70ms/step\n",
            "1/1 [==============================] - 0s 69ms/step\n",
            "1/1 [==============================] - 0s 69ms/step\n",
            "1/1 [==============================] - 0s 70ms/step\n",
            "1/1 [==============================] - 0s 69ms/step\n",
            "1/1 [==============================] - 0s 72ms/step\n",
            "1/1 [==============================] - 0s 71ms/step\n",
            "1/1 [==============================] - 0s 90ms/step\n",
            "1/1 [==============================] - 0s 83ms/step\n",
            "1/1 [==============================] - 0s 93ms/step\n",
            "1/1 [==============================] - 0s 102ms/step\n",
            "1/1 [==============================] - 0s 84ms/step\n",
            "1/1 [==============================] - 0s 89ms/step\n",
            "1/1 [==============================] - 0s 84ms/step\n",
            "1/1 [==============================] - 0s 83ms/step\n",
            "1/1 [==============================] - 0s 72ms/step\n",
            "1/1 [==============================] - 0s 68ms/step\n",
            "1/1 [==============================] - 0s 67ms/step\n",
            "1/1 [==============================] - 0s 68ms/step\n",
            "1/1 [==============================] - 0s 67ms/step\n",
            "1/1 [==============================] - 0s 69ms/step\n",
            "1/1 [==============================] - 0s 83ms/step\n",
            "1/1 [==============================] - 0s 69ms/step\n",
            "1/1 [==============================] - 0s 75ms/step\n",
            "1/1 [==============================] - 0s 82ms/step\n",
            "1/1 [==============================] - 0s 73ms/step\n",
            "1/1 [==============================] - 0s 69ms/step\n",
            "1/1 [==============================] - 0s 70ms/step\n",
            "1/1 [==============================] - 0s 72ms/step\n",
            "1/1 [==============================] - 0s 68ms/step\n",
            "1/1 [==============================] - 0s 72ms/step\n",
            "1/1 [==============================] - 0s 67ms/step\n",
            "1/1 [==============================] - 0s 69ms/step\n",
            "1/1 [==============================] - 0s 70ms/step\n",
            "1/1 [==============================] - 0s 71ms/step\n",
            "1/1 [==============================] - 0s 72ms/step\n",
            "1/1 [==============================] - 0s 68ms/step\n",
            "1/1 [==============================] - 0s 69ms/step\n",
            "1/1 [==============================] - 0s 69ms/step\n",
            "1/1 [==============================] - 0s 70ms/step\n",
            "1/1 [==============================] - 0s 79ms/step\n",
            "1/1 [==============================] - 0s 74ms/step\n",
            "1/1 [==============================] - 0s 81ms/step\n",
            "1/1 [==============================] - 0s 77ms/step\n",
            "1/1 [==============================] - 0s 83ms/step\n",
            "1/1 [==============================] - 0s 77ms/step\n",
            "1/1 [==============================] - 0s 84ms/step\n",
            "1/1 [==============================] - 0s 90ms/step\n",
            "1/1 [==============================] - 0s 102ms/step\n",
            "1/1 [==============================] - 0s 70ms/step\n",
            "Penalty P1:  0.9216880798339844 ----------- 42.jpeg\n",
            "Penalty P2:  0.8428342938423157 ----------- 42.jpeg\n",
            "Pic1\t 0.9275664687156677 ----------- 42.jpeg\n",
            "Pic2\t 0.9115633964538574 ----------- 42.jpeg\n",
            "Pic3\t 0.8861569166183472 ----------- 42.jpeg\n",
            "Pic4\t 0.8861569166183472 ----------- 42.jpeg\n",
            "Pic5\t 0.9651273488998413 ----------- 42.jpeg\n",
            "Card:\t 0.5060946345329285 ----------- 42.jpeg\n",
            "Pic6:\t 0.8843939900398254 ----------- 42.jpeg\n",
            "\n",
            "1/1 [==============================] - 0s 68ms/step\n",
            "1/1 [==============================] - 0s 68ms/step\n",
            "1/1 [==============================] - 0s 79ms/step\n",
            "1/1 [==============================] - 0s 67ms/step\n",
            "1/1 [==============================] - 0s 66ms/step\n",
            "1/1 [==============================] - 0s 69ms/step\n",
            "1/1 [==============================] - 0s 73ms/step\n",
            "1/1 [==============================] - 0s 76ms/step\n",
            "1/1 [==============================] - 0s 69ms/step\n",
            "1/1 [==============================] - 0s 70ms/step\n",
            "1/1 [==============================] - 0s 70ms/step\n",
            "1/1 [==============================] - 0s 70ms/step\n",
            "1/1 [==============================] - 0s 70ms/step\n",
            "1/1 [==============================] - 0s 75ms/step\n",
            "1/1 [==============================] - 0s 69ms/step\n",
            "1/1 [==============================] - 0s 69ms/step\n",
            "1/1 [==============================] - 0s 84ms/step\n",
            "1/1 [==============================] - 0s 71ms/step\n",
            "1/1 [==============================] - 0s 70ms/step\n",
            "1/1 [==============================] - 0s 69ms/step\n",
            "Penalty P1:  0.612619161605835 ----------- 51.jpeg\n",
            "Penalty P2:  0.6765782833099365 ----------- 51.jpeg\n",
            "Pic1\t 0.5175154209136963 ----------- 51.jpeg\n",
            "Pic2\t 0.494180291891098 ----------- 51.jpeg\n",
            "Pic3\t 0.5302484631538391 ----------- 51.jpeg\n",
            "Pic4\t 0.5302484631538391 ----------- 51.jpeg\n",
            "Pic5\t 0.48531848192214966 ----------- 51.jpeg\n",
            "Card:\t 0.9548909664154053 ----------- 51.jpeg\n",
            "Pic6:\t 0.6626294851303101 ----------- 51.jpeg\n",
            "\n",
            "1/1 [==============================] - 0s 70ms/step\n",
            "1/1 [==============================] - 0s 69ms/step\n",
            "1/1 [==============================] - 0s 68ms/step\n",
            "1/1 [==============================] - 0s 66ms/step\n",
            "1/1 [==============================] - 0s 69ms/step\n",
            "1/1 [==============================] - 0s 81ms/step\n",
            "1/1 [==============================] - 0s 88ms/step\n",
            "1/1 [==============================] - 0s 87ms/step\n",
            "1/1 [==============================] - 0s 90ms/step\n",
            "1/1 [==============================] - 0s 86ms/step\n",
            "1/1 [==============================] - 0s 85ms/step\n",
            "1/1 [==============================] - 0s 85ms/step\n",
            "1/1 [==============================] - 0s 71ms/step\n",
            "1/1 [==============================] - 0s 70ms/step\n",
            "1/1 [==============================] - 0s 97ms/step\n",
            "1/1 [==============================] - 0s 68ms/step\n",
            "1/1 [==============================] - 0s 68ms/step\n",
            "1/1 [==============================] - 0s 69ms/step\n",
            "1/1 [==============================] - 0s 80ms/step\n",
            "1/1 [==============================] - 0s 68ms/step\n",
            "1/1 [==============================] - 0s 67ms/step\n",
            "1/1 [==============================] - 0s 70ms/step\n",
            "1/1 [==============================] - 0s 67ms/step\n",
            "1/1 [==============================] - 0s 71ms/step\n",
            "1/1 [==============================] - 0s 70ms/step\n",
            "1/1 [==============================] - 0s 70ms/step\n",
            "1/1 [==============================] - 0s 67ms/step\n",
            "1/1 [==============================] - 0s 79ms/step\n",
            "1/1 [==============================] - 0s 70ms/step\n",
            "1/1 [==============================] - 0s 69ms/step\n",
            "1/1 [==============================] - 0s 71ms/step\n",
            "1/1 [==============================] - 0s 79ms/step\n",
            "1/1 [==============================] - 0s 69ms/step\n",
            "1/1 [==============================] - 0s 69ms/step\n",
            "1/1 [==============================] - 0s 70ms/step\n",
            "1/1 [==============================] - 0s 69ms/step\n",
            "Penalty P1:  0.8977280855178833 ----------- 68.jpeg\n",
            "Penalty P2:  0.5768804550170898 ----------- 68.jpeg\n",
            "Pic1\t 0.9255885481834412 ----------- 68.jpeg\n",
            "Pic2\t 0.9371800422668457 ----------- 68.jpeg\n",
            "Pic3\t 0.9131453633308411 ----------- 68.jpeg\n",
            "Pic4\t 0.9131453633308411 ----------- 68.jpeg\n",
            "Pic5\t 0.8764835000038147 ----------- 68.jpeg\n",
            "Card:\t 0.544708788394928 ----------- 68.jpeg\n",
            "Pic6:\t 0.5700362324714661 ----------- 68.jpeg\n",
            "\n",
            "1/1 [==============================] - 0s 68ms/step\n",
            "1/1 [==============================] - 0s 69ms/step\n",
            "1/1 [==============================] - 0s 85ms/step\n",
            "1/1 [==============================] - 0s 92ms/step\n",
            "Penalty P1:  0.8825558423995972 ----------- 7.jpeg\n",
            "Penalty P2:  0.5652657747268677 ----------- 7.jpeg\n",
            "Pic1\t 0.9227993488311768 ----------- 7.jpeg\n",
            "Pic2\t 0.9240546226501465 ----------- 7.jpeg\n",
            "Pic3\t 0.9141032099723816 ----------- 7.jpeg\n",
            "Pic4\t 0.9141032099723816 ----------- 7.jpeg\n",
            "Pic5\t 0.8588495254516602 ----------- 7.jpeg\n",
            "Card:\t 0.5459020137786865 ----------- 7.jpeg\n",
            "Pic6:\t 0.5703774094581604 ----------- 7.jpeg\n",
            "\n",
            "1/1 [==============================] - 0s 84ms/step\n",
            "1/1 [==============================] - 0s 89ms/step\n",
            "1/1 [==============================] - 0s 88ms/step\n",
            "1/1 [==============================] - 0s 93ms/step\n",
            "1/1 [==============================] - 0s 88ms/step\n",
            "1/1 [==============================] - 0s 88ms/step\n",
            "1/1 [==============================] - 0s 68ms/step\n",
            "1/1 [==============================] - 0s 71ms/step\n",
            "1/1 [==============================] - 0s 68ms/step\n",
            "1/1 [==============================] - 0s 67ms/step\n",
            "1/1 [==============================] - 0s 67ms/step\n",
            "1/1 [==============================] - 0s 69ms/step\n",
            "1/1 [==============================] - 0s 68ms/step\n",
            "1/1 [==============================] - 0s 67ms/step\n",
            "1/1 [==============================] - 0s 66ms/step\n",
            "1/1 [==============================] - 0s 68ms/step\n",
            "1/1 [==============================] - 0s 80ms/step\n",
            "1/1 [==============================] - 0s 75ms/step\n",
            "1/1 [==============================] - 0s 69ms/step\n",
            "1/1 [==============================] - 0s 73ms/step\n",
            "1/1 [==============================] - 0s 67ms/step\n",
            "1/1 [==============================] - 0s 69ms/step\n",
            "1/1 [==============================] - 0s 68ms/step\n",
            "1/1 [==============================] - 0s 67ms/step\n",
            "1/1 [==============================] - 0s 82ms/step\n",
            "1/1 [==============================] - 0s 68ms/step\n",
            "1/1 [==============================] - 0s 67ms/step\n",
            "1/1 [==============================] - 0s 67ms/step\n",
            "1/1 [==============================] - 0s 68ms/step\n",
            "1/1 [==============================] - 0s 71ms/step\n",
            "1/1 [==============================] - 0s 68ms/step\n",
            "1/1 [==============================] - 0s 67ms/step\n",
            "1/1 [==============================] - 0s 81ms/step\n",
            "1/1 [==============================] - 0s 86ms/step\n",
            "1/1 [==============================] - 0s 84ms/step\n",
            "1/1 [==============================] - 0s 83ms/step\n",
            "1/1 [==============================] - 0s 79ms/step\n",
            "1/1 [==============================] - 0s 87ms/step\n",
            "1/1 [==============================] - 0s 87ms/step\n",
            "1/1 [==============================] - 0s 86ms/step\n",
            "Penalty P1:  0.9168917536735535 ----------- 88.jpeg\n",
            "Penalty P2:  0.6274969577789307 ----------- 88.jpeg\n",
            "Pic1\t 0.9367048740386963 ----------- 88.jpeg\n",
            "Pic2\t 0.9234095215797424 ----------- 88.jpeg\n",
            "Pic3\t 0.9005261659622192 ----------- 88.jpeg\n",
            "Pic4\t 0.9005261659622192 ----------- 88.jpeg\n",
            "Pic5\t 0.9594350457191467 ----------- 88.jpeg\n",
            "Card:\t 0.5030843615531921 ----------- 88.jpeg\n",
            "Pic6:\t 0.55416339635849 ----------- 88.jpeg\n",
            "\n",
            "1/1 [==============================] - 0s 69ms/step\n",
            "1/1 [==============================] - 0s 70ms/step\n",
            "1/1 [==============================] - 0s 68ms/step\n",
            "1/1 [==============================] - 0s 70ms/step\n",
            "1/1 [==============================] - 0s 69ms/step\n",
            "1/1 [==============================] - 0s 68ms/step\n",
            "1/1 [==============================] - 0s 66ms/step\n",
            "1/1 [==============================] - 0s 68ms/step\n",
            "1/1 [==============================] - 0s 84ms/step\n",
            "1/1 [==============================] - 0s 68ms/step\n",
            "1/1 [==============================] - 0s 68ms/step\n",
            "1/1 [==============================] - 0s 73ms/step\n",
            "1/1 [==============================] - 0s 70ms/step\n",
            "1/1 [==============================] - 0s 68ms/step\n",
            "1/1 [==============================] - 0s 71ms/step\n",
            "1/1 [==============================] - 0s 75ms/step\n",
            "1/1 [==============================] - 0s 80ms/step\n",
            "1/1 [==============================] - 0s 69ms/step\n",
            "1/1 [==============================] - 0s 69ms/step\n",
            "1/1 [==============================] - 0s 68ms/step\n",
            "1/1 [==============================] - 0s 68ms/step\n",
            "1/1 [==============================] - 0s 67ms/step\n",
            "Penalty P1:  0.5254334211349487 ----------- 98.jpeg\n",
            "Penalty P2:  0.5693373680114746 ----------- 98.jpeg\n",
            "Pic1\t 0.44840380549430847 ----------- 98.jpeg\n",
            "Pic2\t 0.42042064666748047 ----------- 98.jpeg\n",
            "Pic3\t 0.4562312364578247 ----------- 98.jpeg\n",
            "Pic4\t 0.4562312364578247 ----------- 98.jpeg\n",
            "Pic5\t 0.4007778763771057 ----------- 98.jpeg\n",
            "Card:\t 0.9303620457649231 ----------- 98.jpeg\n",
            "Pic6:\t 0.5708519816398621 ----------- 98.jpeg\n",
            "\n",
            "1/1 [==============================] - 0s 69ms/step\n",
            "1/1 [==============================] - 0s 69ms/step\n",
            "6\n"
          ]
        }
      ]
    },
    {
      "cell_type": "markdown",
      "source": [
        "Removing Unnecessary Frames"
      ],
      "metadata": {
        "id": "nd0HcS7hfUkX"
      }
    },
    {
      "cell_type": "code",
      "execution_count": 16,
      "metadata": {
        "id": "UFYsMAQDo-Yk"
      },
      "outputs": [],
      "source": [
        "for i in os.listdir(\"/content/drive/MyDrive/MID/FootballData/Camera_Angle1/\"):\n",
        "  if i not in ls1:\n",
        "    os.remove(\"/content/drive/MyDrive/MID/FootballData/Camera_Angle1/\" + i)"
      ]
    },
    {
      "cell_type": "code",
      "execution_count": 17,
      "metadata": {
        "id": "XGoi5950g-IY"
      },
      "outputs": [],
      "source": [
        "video_dictionary = {}\n",
        "for i in os.listdir(\"/content/drive/MyDrive/MID/FootballData/Camera_Angle1/\"):\n",
        "  video_dictionary[\"/content/drive/MyDrive/MID/FootballData/Videos/\" + i.replace(\".jpeg\",\".mp4\")] = diction1[\"/content/drive/MyDrive/MID/FootballData/Camera_Angle1/\" + i] "
      ]
    },
    {
      "cell_type": "markdown",
      "source": [
        "Creating Frames into Clips"
      ],
      "metadata": {
        "id": "k_0xF-aq5YQS"
      }
    },
    {
      "cell_type": "code",
      "execution_count": 18,
      "metadata": {
        "colab": {
          "base_uri": "https://localhost:8080/"
        },
        "id": "PUiFzZegYOJ9",
        "outputId": "9edfaac8-58e6-4027-cacb-a1cc56c4bc1f"
      },
      "outputs": [
        {
          "output_type": "stream",
          "name": "stdout",
          "text": [
            "Moviepy - Running:\n",
            ">>> \"+ \" \".join(cmd)\n",
            "Moviepy - Command successful\n",
            "Moviepy - Running:\n",
            ">>> \"+ \" \".join(cmd)\n",
            "Moviepy - Command successful\n",
            "Moviepy - Running:\n",
            ">>> \"+ \" \".join(cmd)\n",
            "Moviepy - Command successful\n",
            "Moviepy - Running:\n",
            ">>> \"+ \" \".join(cmd)\n",
            "Moviepy - Command successful\n",
            "Moviepy - Running:\n",
            ">>> \"+ \" \".join(cmd)\n",
            "Moviepy - Command successful\n",
            "Moviepy - Running:\n",
            ">>> \"+ \" \".join(cmd)\n",
            "Moviepy - Command successful\n"
          ]
        }
      ],
      "source": [
        "# cutting out some part from the clip\n",
        "for i in video_dictionary.keys():\n",
        "  cmd = [get_setting(\"FFMPEG_BINARY\"),\"-y\",\n",
        "          \"-ss\", \"%0.2f\"%(video_dictionary[i][1]-6),\n",
        "          \"-i\", videopath,\n",
        "          \"-t\", \"%0.2f\"%(18),\n",
        "          \"-map\", \"0\", \"-vcodec\", \"copy\", \"-acodec\", \"copy\", i]\n",
        "  \n",
        "  subprocess_call(cmd)"
      ]
    },
    {
      "cell_type": "code",
      "execution_count": 19,
      "metadata": {
        "id": "t7juy0UScn50",
        "colab": {
          "base_uri": "https://localhost:8080/"
        },
        "outputId": "cb8fce22-8412-4f60-b95b-402c32a6c518"
      },
      "outputs": [
        {
          "output_type": "stream",
          "name": "stdout",
          "text": [
            "6\n"
          ]
        }
      ],
      "source": [
        "print(len(video_dictionary))"
      ]
    },
    {
      "cell_type": "markdown",
      "metadata": {
        "id": "wZJ73oSO0z3w"
      },
      "source": [
        "Results Derived Here"
      ]
    },
    {
      "cell_type": "code",
      "execution_count": 20,
      "metadata": {
        "id": "vvObzJNlVBoI",
        "colab": {
          "base_uri": "https://localhost:8080/"
        },
        "outputId": "e191ced9-36b3-406c-ca28-b688feda2c2c"
      },
      "outputs": [
        {
          "metadata": {
            "tags": null
          },
          "name": "stdout",
          "output_type": "stream",
          "text": [
            "Moviepy - Building video /content/drive/MyDrive/MID/FootballData/Results/result1.mp4.\n",
            "MoviePy - Writing audio in result1TEMP_MPY_wvf_snd.mp3\n"
          ]
        },
        {
          "metadata": {
            "tags": null
          },
          "name": "stderr",
          "output_type": "stream",
          "text": [
            ""
          ]
        },
        {
          "metadata": {
            "tags": null
          },
          "name": "stdout",
          "output_type": "stream",
          "text": [
            "MoviePy - Done.\n",
            "Moviepy - Writing video /content/drive/MyDrive/MID/FootballData/Results/result1.mp4\n",
            "\n"
          ]
        },
        {
          "output_type": "stream",
          "name": "stderr",
          "text": [
            "t:  17%|█▋        | 451/2728 [01:36<09:03,  4.19it/s, now=None]WARNING:py.warnings:/usr/local/lib/python3.9/dist-packages/moviepy/video/io/ffmpeg_reader.py:123: UserWarning: Warning: in file /content/drive/MyDrive/MID/FootballData/Videos/7.mp4, 6220800 bytes wanted but 0 bytes read,at frame 450/456, at time 18.00/18.21 sec. Using the last valid frame instead.\n",
            "  warnings.warn(\"Warning: in file %s, \"%(self.filename)+\n",
            "\n",
            "t:  17%|█▋        | 452/2728 [01:36<07:55,  4.79it/s, now=None]WARNING:py.warnings:/usr/local/lib/python3.9/dist-packages/moviepy/video/io/ffmpeg_reader.py:123: UserWarning: Warning: in file /content/drive/MyDrive/MID/FootballData/Videos/7.mp4, 6220800 bytes wanted but 0 bytes read,at frame 451/456, at time 18.04/18.21 sec. Using the last valid frame instead.\n",
            "  warnings.warn(\"Warning: in file %s, \"%(self.filename)+\n",
            "\n",
            "t:  17%|█▋        | 453/2728 [01:36<07:47,  4.87it/s, now=None]WARNING:py.warnings:/usr/local/lib/python3.9/dist-packages/moviepy/video/io/ffmpeg_reader.py:123: UserWarning: Warning: in file /content/drive/MyDrive/MID/FootballData/Videos/7.mp4, 6220800 bytes wanted but 0 bytes read,at frame 452/456, at time 18.08/18.21 sec. Using the last valid frame instead.\n",
            "  warnings.warn(\"Warning: in file %s, \"%(self.filename)+\n",
            "\n",
            "t:  17%|█▋        | 454/2728 [01:37<08:39,  4.38it/s, now=None]WARNING:py.warnings:/usr/local/lib/python3.9/dist-packages/moviepy/video/io/ffmpeg_reader.py:123: UserWarning: Warning: in file /content/drive/MyDrive/MID/FootballData/Videos/7.mp4, 6220800 bytes wanted but 0 bytes read,at frame 453/456, at time 18.12/18.21 sec. Using the last valid frame instead.\n",
            "  warnings.warn(\"Warning: in file %s, \"%(self.filename)+\n",
            "\n",
            "t:  17%|█▋        | 455/2728 [01:37<12:11,  3.11it/s, now=None]WARNING:py.warnings:/usr/local/lib/python3.9/dist-packages/moviepy/video/io/ffmpeg_reader.py:123: UserWarning: Warning: in file /content/drive/MyDrive/MID/FootballData/Videos/7.mp4, 6220800 bytes wanted but 0 bytes read,at frame 454/456, at time 18.16/18.21 sec. Using the last valid frame instead.\n",
            "  warnings.warn(\"Warning: in file %s, \"%(self.filename)+\n",
            "\n",
            "t:  17%|█▋        | 456/2728 [01:37<10:39,  3.55it/s, now=None]WARNING:py.warnings:/usr/local/lib/python3.9/dist-packages/moviepy/video/io/ffmpeg_reader.py:123: UserWarning: Warning: in file /content/drive/MyDrive/MID/FootballData/Videos/7.mp4, 6220800 bytes wanted but 0 bytes read,at frame 455/456, at time 18.20/18.21 sec. Using the last valid frame instead.\n",
            "  warnings.warn(\"Warning: in file %s, \"%(self.filename)+\n",
            "\n",
            "t:  33%|███▎      | 907/2728 [03:06<10:53,  2.79it/s, now=None]WARNING:py.warnings:/usr/local/lib/python3.9/dist-packages/moviepy/video/io/ffmpeg_reader.py:123: UserWarning: Warning: in file /content/drive/MyDrive/MID/FootballData/Videos/42.mp4, 6220800 bytes wanted but 0 bytes read,at frame 450/452, at time 18.00/18.07 sec. Using the last valid frame instead.\n",
            "  warnings.warn(\"Warning: in file %s, \"%(self.filename)+\n",
            "\n",
            "t:  50%|████▉     | 1358/2728 [04:36<04:28,  5.10it/s, now=None]WARNING:py.warnings:/usr/local/lib/python3.9/dist-packages/moviepy/video/io/ffmpeg_reader.py:123: UserWarning: Warning: in file /content/drive/MyDrive/MID/FootballData/Videos/51.mp4, 6220800 bytes wanted but 0 bytes read,at frame 450/461, at time 18.00/18.41 sec. Using the last valid frame instead.\n",
            "  warnings.warn(\"Warning: in file %s, \"%(self.filename)+\n",
            "\n",
            "t:  50%|████▉     | 1359/2728 [04:37<04:29,  5.09it/s, now=None]WARNING:py.warnings:/usr/local/lib/python3.9/dist-packages/moviepy/video/io/ffmpeg_reader.py:123: UserWarning: Warning: in file /content/drive/MyDrive/MID/FootballData/Videos/51.mp4, 6220800 bytes wanted but 0 bytes read,at frame 451/461, at time 18.04/18.41 sec. Using the last valid frame instead.\n",
            "  warnings.warn(\"Warning: in file %s, \"%(self.filename)+\n",
            "\n",
            "t:  50%|████▉     | 1360/2728 [04:37<04:06,  5.56it/s, now=None]WARNING:py.warnings:/usr/local/lib/python3.9/dist-packages/moviepy/video/io/ffmpeg_reader.py:123: UserWarning: Warning: in file /content/drive/MyDrive/MID/FootballData/Videos/51.mp4, 6220800 bytes wanted but 0 bytes read,at frame 452/461, at time 18.08/18.41 sec. Using the last valid frame instead.\n",
            "  warnings.warn(\"Warning: in file %s, \"%(self.filename)+\n",
            "\n",
            "t:  50%|████▉     | 1361/2728 [04:37<04:15,  5.35it/s, now=None]WARNING:py.warnings:/usr/local/lib/python3.9/dist-packages/moviepy/video/io/ffmpeg_reader.py:123: UserWarning: Warning: in file /content/drive/MyDrive/MID/FootballData/Videos/51.mp4, 6220800 bytes wanted but 0 bytes read,at frame 453/461, at time 18.12/18.41 sec. Using the last valid frame instead.\n",
            "  warnings.warn(\"Warning: in file %s, \"%(self.filename)+\n",
            "\n",
            "t:  50%|████▉     | 1362/2728 [04:37<04:21,  5.23it/s, now=None]WARNING:py.warnings:/usr/local/lib/python3.9/dist-packages/moviepy/video/io/ffmpeg_reader.py:123: UserWarning: Warning: in file /content/drive/MyDrive/MID/FootballData/Videos/51.mp4, 6220800 bytes wanted but 0 bytes read,at frame 454/461, at time 18.16/18.41 sec. Using the last valid frame instead.\n",
            "  warnings.warn(\"Warning: in file %s, \"%(self.filename)+\n",
            "\n",
            "t:  50%|████▉     | 1363/2728 [04:37<04:06,  5.53it/s, now=None]WARNING:py.warnings:/usr/local/lib/python3.9/dist-packages/moviepy/video/io/ffmpeg_reader.py:123: UserWarning: Warning: in file /content/drive/MyDrive/MID/FootballData/Videos/51.mp4, 6220800 bytes wanted but 0 bytes read,at frame 455/461, at time 18.20/18.41 sec. Using the last valid frame instead.\n",
            "  warnings.warn(\"Warning: in file %s, \"%(self.filename)+\n",
            "\n",
            "t:  50%|█████     | 1364/2728 [04:38<04:16,  5.32it/s, now=None]WARNING:py.warnings:/usr/local/lib/python3.9/dist-packages/moviepy/video/io/ffmpeg_reader.py:123: UserWarning: Warning: in file /content/drive/MyDrive/MID/FootballData/Videos/51.mp4, 6220800 bytes wanted but 0 bytes read,at frame 456/461, at time 18.24/18.41 sec. Using the last valid frame instead.\n",
            "  warnings.warn(\"Warning: in file %s, \"%(self.filename)+\n",
            "\n",
            "t:  50%|█████     | 1365/2728 [04:38<04:35,  4.94it/s, now=None]WARNING:py.warnings:/usr/local/lib/python3.9/dist-packages/moviepy/video/io/ffmpeg_reader.py:123: UserWarning: Warning: in file /content/drive/MyDrive/MID/FootballData/Videos/51.mp4, 6220800 bytes wanted but 0 bytes read,at frame 457/461, at time 18.28/18.41 sec. Using the last valid frame instead.\n",
            "  warnings.warn(\"Warning: in file %s, \"%(self.filename)+\n",
            "\n",
            "t:  50%|█████     | 1366/2728 [04:38<04:38,  4.88it/s, now=None]WARNING:py.warnings:/usr/local/lib/python3.9/dist-packages/moviepy/video/io/ffmpeg_reader.py:123: UserWarning: Warning: in file /content/drive/MyDrive/MID/FootballData/Videos/51.mp4, 6220800 bytes wanted but 0 bytes read,at frame 458/461, at time 18.32/18.41 sec. Using the last valid frame instead.\n",
            "  warnings.warn(\"Warning: in file %s, \"%(self.filename)+\n",
            "\n",
            "t:  50%|█████     | 1367/2728 [04:38<04:09,  5.45it/s, now=None]WARNING:py.warnings:/usr/local/lib/python3.9/dist-packages/moviepy/video/io/ffmpeg_reader.py:123: UserWarning: Warning: in file /content/drive/MyDrive/MID/FootballData/Videos/51.mp4, 6220800 bytes wanted but 0 bytes read,at frame 459/461, at time 18.36/18.41 sec. Using the last valid frame instead.\n",
            "  warnings.warn(\"Warning: in file %s, \"%(self.filename)+\n",
            "\n",
            "t:  50%|█████     | 1368/2728 [04:38<03:57,  5.73it/s, now=None]WARNING:py.warnings:/usr/local/lib/python3.9/dist-packages/moviepy/video/io/ffmpeg_reader.py:123: UserWarning: Warning: in file /content/drive/MyDrive/MID/FootballData/Videos/51.mp4, 6220800 bytes wanted but 0 bytes read,at frame 460/461, at time 18.40/18.41 sec. Using the last valid frame instead.\n",
            "  warnings.warn(\"Warning: in file %s, \"%(self.filename)+\n",
            "\n",
            "t:  67%|██████▋   | 1819/2728 [06:12<02:40,  5.67it/s, now=None]WARNING:py.warnings:/usr/local/lib/python3.9/dist-packages/moviepy/video/io/ffmpeg_reader.py:123: UserWarning: Warning: in file /content/drive/MyDrive/MID/FootballData/Videos/68.mp4, 6220800 bytes wanted but 0 bytes read,at frame 450/453, at time 18.00/18.09 sec. Using the last valid frame instead.\n",
            "  warnings.warn(\"Warning: in file %s, \"%(self.filename)+\n",
            "\n",
            "t:  67%|██████▋   | 1820/2728 [06:12<02:39,  5.69it/s, now=None]WARNING:py.warnings:/usr/local/lib/python3.9/dist-packages/moviepy/video/io/ffmpeg_reader.py:123: UserWarning: Warning: in file /content/drive/MyDrive/MID/FootballData/Videos/68.mp4, 6220800 bytes wanted but 0 bytes read,at frame 451/453, at time 18.04/18.09 sec. Using the last valid frame instead.\n",
            "  warnings.warn(\"Warning: in file %s, \"%(self.filename)+\n",
            "\n",
            "t:  83%|████████▎ | 2271/2728 [07:39<01:13,  6.25it/s, now=None]WARNING:py.warnings:/usr/local/lib/python3.9/dist-packages/moviepy/video/io/ffmpeg_reader.py:123: UserWarning: Warning: in file /content/drive/MyDrive/MID/FootballData/Videos/88.mp4, 6220800 bytes wanted but 0 bytes read,at frame 450/455, at time 18.00/18.18 sec. Using the last valid frame instead.\n",
            "  warnings.warn(\"Warning: in file %s, \"%(self.filename)+\n",
            "\n",
            "t:  83%|████████▎ | 2272/2728 [07:39<01:22,  5.54it/s, now=None]WARNING:py.warnings:/usr/local/lib/python3.9/dist-packages/moviepy/video/io/ffmpeg_reader.py:123: UserWarning: Warning: in file /content/drive/MyDrive/MID/FootballData/Videos/88.mp4, 6220800 bytes wanted but 0 bytes read,at frame 451/455, at time 18.04/18.18 sec. Using the last valid frame instead.\n",
            "  warnings.warn(\"Warning: in file %s, \"%(self.filename)+\n",
            "\n",
            "t:  83%|████████▎ | 2273/2728 [07:39<01:20,  5.66it/s, now=None]WARNING:py.warnings:/usr/local/lib/python3.9/dist-packages/moviepy/video/io/ffmpeg_reader.py:123: UserWarning: Warning: in file /content/drive/MyDrive/MID/FootballData/Videos/88.mp4, 6220800 bytes wanted but 0 bytes read,at frame 452/455, at time 18.08/18.18 sec. Using the last valid frame instead.\n",
            "  warnings.warn(\"Warning: in file %s, \"%(self.filename)+\n",
            "\n",
            "t:  83%|████████▎ | 2274/2728 [07:39<01:12,  6.29it/s, now=None]WARNING:py.warnings:/usr/local/lib/python3.9/dist-packages/moviepy/video/io/ffmpeg_reader.py:123: UserWarning: Warning: in file /content/drive/MyDrive/MID/FootballData/Videos/88.mp4, 6220800 bytes wanted but 0 bytes read,at frame 453/455, at time 18.12/18.18 sec. Using the last valid frame instead.\n",
            "  warnings.warn(\"Warning: in file %s, \"%(self.filename)+\n",
            "\n",
            "t: 100%|█████████▉| 2725/2728 [09:10<00:01,  2.93it/s, now=None]WARNING:py.warnings:/usr/local/lib/python3.9/dist-packages/moviepy/video/io/ffmpeg_reader.py:123: UserWarning: Warning: in file /content/drive/MyDrive/MID/FootballData/Videos/98.mp4, 6220800 bytes wanted but 0 bytes read,at frame 450/455, at time 18.00/18.16 sec. Using the last valid frame instead.\n",
            "  warnings.warn(\"Warning: in file %s, \"%(self.filename)+\n",
            "\n",
            "t: 100%|█████████▉| 2726/2728 [09:10<00:00,  3.45it/s, now=None]WARNING:py.warnings:/usr/local/lib/python3.9/dist-packages/moviepy/video/io/ffmpeg_reader.py:123: UserWarning: Warning: in file /content/drive/MyDrive/MID/FootballData/Videos/98.mp4, 6220800 bytes wanted but 0 bytes read,at frame 451/455, at time 18.04/18.16 sec. Using the last valid frame instead.\n",
            "  warnings.warn(\"Warning: in file %s, \"%(self.filename)+\n",
            "\n",
            "WARNING:py.warnings:/usr/local/lib/python3.9/dist-packages/moviepy/video/io/ffmpeg_reader.py:123: UserWarning: Warning: in file /content/drive/MyDrive/MID/FootballData/Videos/98.mp4, 6220800 bytes wanted but 0 bytes read,at frame 452/455, at time 18.08/18.16 sec. Using the last valid frame instead.\n",
            "  warnings.warn(\"Warning: in file %s, \"%(self.filename)+\n",
            "\n",
            "t: 100%|██████████| 2728/2728 [09:11<00:00,  4.36it/s, now=None]WARNING:py.warnings:/usr/local/lib/python3.9/dist-packages/moviepy/video/io/ffmpeg_reader.py:123: UserWarning: Warning: in file /content/drive/MyDrive/MID/FootballData/Videos/98.mp4, 6220800 bytes wanted but 0 bytes read,at frame 453/455, at time 18.12/18.16 sec. Using the last valid frame instead.\n",
            "  warnings.warn(\"Warning: in file %s, \"%(self.filename)+\n",
            "\n"
          ]
        },
        {
          "output_type": "stream",
          "name": "stdout",
          "text": [
            "Moviepy - Done !\n",
            "Moviepy - video ready /content/drive/MyDrive/MID/FootballData/Results/result1.mp4\n"
          ]
        }
      ],
      "source": [
        "from moviepy.editor import *\n",
        "import os\n",
        "s=str(len(os.listdir(\"/content/drive/MyDrive/MID/FootballData/Results\")))\n",
        "\n",
        "\n",
        "c = []\n",
        "for i in os.listdir(\"/content/drive/MyDrive/MID/FootballData/Videos\"):\n",
        "  c.append(VideoFileClip(\"/content/drive/MyDrive/MID/FootballData/Videos/\" + i))\n",
        "\n",
        "final_clip = concatenate_videoclips(c, method=\"compose\")\n",
        "final_clip.write_videofile(\"/content/drive/MyDrive/MID/FootballData/Results/result\"+s+\".mp4\")"
      ]
    },
    {
      "cell_type": "code",
      "source": [],
      "metadata": {
        "id": "b9Rst4pZzCCe"
      },
      "execution_count": null,
      "outputs": []
    }
  ],
  "metadata": {
    "colab": {
      "provenance": []
    },
    "gpuClass": "standard",
    "kernelspec": {
      "display_name": "Python 3",
      "name": "python3"
    },
    "language_info": {
      "name": "python"
    },
    "accelerator": "GPU"
  },
  "nbformat": 4,
  "nbformat_minor": 0
}